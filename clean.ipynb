{
 "cells": [
  {
   "cell_type": "code",
   "execution_count": 1,
   "id": "6f1f25ef-a1cf-41a7-acae-f4b6ba8e47cb",
   "metadata": {},
   "outputs": [],
   "source": [
    "import os\n",
    "import pandas as pd\n",
    "import numpy as np\n",
    "import glob\n",
    "import time\n",
    "from pandas.errors import EmptyDataError"
   ]
  },
  {
   "cell_type": "code",
   "execution_count": 2,
   "id": "290995e6-867f-4128-9130-37cc1df1f149",
   "metadata": {},
   "outputs": [],
   "source": [
    "def clean(path):\n",
    "    with open(path, 'r') as fr:\n",
    "        # reading line by line\n",
    "        lines = fr.readlines()\n",
    "        ptr = 0\n",
    "    \n",
    "        with open(path, 'w') as fw:\n",
    "            for line in lines:\n",
    "                if ptr == 0:\n",
    "                    fw.write(line)\n",
    "                else:\n",
    "                    split = line.split(\",\")\n",
    "                    if split[0].isdigit():\n",
    "                        fw.write(line)\n",
    "                ptr+=1"
   ]
  },
  {
   "cell_type": "code",
   "execution_count": 31,
   "id": "b3d94396-3f02-41a0-a932-2515ed59d860",
   "metadata": {},
   "outputs": [],
   "source": [
    "def compute(path):\n",
    "    try:\n",
    "        cluster,compiler,filename = path.split(\"\\\\\")[1:] # split path\n",
    "        filename = filename[:-4] # get rid of .txt\n",
    "        node,benchmark,cores,run,iterations,delay = filename.split(\"-\") # split file name\n",
    "\n",
    "        \n",
    "            \n",
    "        table = pd.read_csv(path) # import file\n",
    "        table.columns = table.columns.str.lstrip() # remove spaces from start of line            \n",
    "            \n",
    "        # Set variables\n",
    "        table[\"cluster\"] = cluster\n",
    "        table[\"compiler\"] = compiler\n",
    "        table[\"node\"] = node\n",
    "        table[\"benchmark\"] = benchmark\n",
    "        table[\"cores\"] = cores\n",
    "        table[\"run\"] = run\n",
    "        table[\"iterations\"] = iterations\n",
    "        table[\"delay\"] = delay\n",
    "            \n",
    "        # Define type\n",
    "        table[\"iteration\"] = pd.to_numeric(table[\"iteration\"], errors='coerce')\n",
    "        table[\"delay\"] = pd.to_numeric(table[\"delay\"], errors='coerce')\n",
    "        table[\"time\"] = pd.to_numeric(table[\"time\"], errors='coerce')\n",
    "        table[\"name\"] = table[\"name\"].astype(str)\n",
    "\n",
    "        # Remove leading and trailing spaces\n",
    "        table[\"name\"] = table[\"name\"].str.strip()\n",
    "\n",
    "        # Split name to name and chunksize\n",
    "        table[[\"name\",\"chunk size\"]] = table[\"name\"].str.extract(r\"((?:[ ]?[a-zA-Z_]+)+)(?: (\\d+))?\")\n",
    "        \n",
    "        # Define type for chunk size\n",
    "        table[\"chunk size\"] = pd.to_numeric(table[\"chunk size\"], errors='coerce')\n",
    "        \n",
    "        # Add metrics\n",
    "        table[\"mean\"] = table.groupby(\"name\")[\"time\"].transform(np.mean)\n",
    "        table[\"median\"] = table.groupby(\"name\")[\"time\"].transform(np.median)\n",
    "        table[\"std\"] = table.groupby(\"name\")[\"time\"].transform(np.std)\n",
    "        table[\"min\"] = table.groupby(\"name\")[\"time\"].transform(min)\n",
    "        table[\"max\"] = table.groupby(\"name\")[\"time\"].transform(max)\n",
    "        return table\n",
    "    except EmptyDataError:\n",
    "        print(\"Empty file %s\" % path)"
   ]
  },
  {
   "cell_type": "code",
   "execution_count": 29,
   "id": "724233c6-efb8-4deb-b225-32aac79a27b6",
   "metadata": {},
   "outputs": [],
   "source": [
    "paths = sorted(glob.glob('./**/*.txt', recursive=True))"
   ]
  },
  {
   "cell_type": "code",
   "execution_count": 32,
   "id": "25bdf505-788b-42ff-b9bd-4b0f70a9104d",
   "metadata": {},
   "outputs": [],
   "source": [
    "savepath = \"archer2-1000i-schedbench.csv\"\n",
    "if not os.path.exists(savepath):\n",
    "    new = True\n",
    "    \n",
    "for path in paths:\n",
    "    clean(path)                                                         \n",
    "    df = compute(path)\n",
    "    if new:\n",
    "        df.to_csv(savepath,index=False,mode='w')\n",
    "        new = False\n",
    "    else:\n",
    "        df.to_csv(savepath,index=False,mode='at',header=False)"
   ]
  }
 ],
 "metadata": {
  "kernelspec": {
   "display_name": "Python 3 (ipykernel)",
   "language": "python",
   "name": "python3"
  },
  "language_info": {
   "codemirror_mode": {
    "name": "ipython",
    "version": 3
   },
   "file_extension": ".py",
   "mimetype": "text/x-python",
   "name": "python",
   "nbconvert_exporter": "python",
   "pygments_lexer": "ipython3",
   "version": "3.11.4"
  }
 },
 "nbformat": 4,
 "nbformat_minor": 5
}
